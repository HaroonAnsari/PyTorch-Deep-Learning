{
 "cells": [
  {
   "cell_type": "markdown",
   "metadata": {},
   "source": [
    "# Getting Started with Pytorch\n",
    "\n",
    "#### ---Pytorch Packages\n",
    "#### ---Tensors\n",
    "#### ---Creating Tensors\n",
    "#### ---Reshaping Tensors\n",
    "#### ---Cloning Tensors\n",
    "#### ---Numeric Datatypes\n",
    "#### ---Tensors Indexing\n",
    "#### ---Numpy to Pytorch and Vice Versa\n",
    "#### ---Squeezing and Unsqueezing Tensors\n",
    "#### ---Concatenating Tensors\n",
    "#### ---Stacking Tensors\n",
    "#### ---Arithematic & Logical Operations\n",
    "#### ---Using a GPU\n",
    "#### ---Flattening a Tensor\n",
    "#### ---Other important operations\n",
    "\n"
   ]
  },
  {
   "cell_type": "markdown",
   "metadata": {},
   "source": [
    " "
   ]
  },
  {
   "cell_type": "code",
   "execution_count": 1,
   "metadata": {},
   "outputs": [],
   "source": [
    "import numpy as np\n",
    "import torch"
   ]
  },
  {
   "cell_type": "markdown",
   "metadata": {},
   "source": [
    " Check pytorch versions"
   ]
  },
  {
   "cell_type": "code",
   "execution_count": 2,
   "metadata": {},
   "outputs": [
    {
     "name": "stdout",
     "output_type": "stream",
     "text": [
      "Pytorch version :  1.4.0\n"
     ]
    }
   ],
   "source": [
    "print('Pytorch version : ', torch.__version__)"
   ]
  },
  {
   "cell_type": "code",
   "execution_count": 3,
   "metadata": {},
   "outputs": [
    {
     "data": {
      "text/plain": [
       "False"
      ]
     },
     "execution_count": 3,
     "metadata": {},
     "output_type": "execute_result"
    }
   ],
   "source": [
    "torch.cuda.is_available()"
   ]
  },
  {
   "cell_type": "markdown",
   "metadata": {},
   "source": [
    "### Pytorch Packages"
   ]
  },
  {
   "cell_type": "markdown",
   "metadata": {},
   "source": [
    "torch               ==>      The top-level PyTorch package and tensor library.\n",
    "\n",
    "torch.nn            ==>      A subpackage that contains modules and extensible classes for building neural                                      networks.\n",
    "\n",
    "torch.autograd      ==>      A subpackage that supports all the differentiable Tensor operations in PyTorch.\n",
    "\n",
    "torch.nn.functional ==>      A functional interface that contains typical operations used for building neural                                  networks like loss functions, activation functions, and convolution operations.\n",
    "\n",
    "torch.optim         ==>      A subpackage that contains standard optimization operations like SGD and Adam.\n",
    "\n",
    "torch.utils         ==>      A subpackage that contains utility classes like data sets and data loaders that make                              data preprocessing easier.\n",
    "\n",
    "torchvision         ==>      A package that provides access to popular datasets, model architectures, and image                                transformations for computer vision. "
   ]
  },
  {
   "cell_type": "markdown",
   "metadata": {},
   "source": [
    "### Tensors"
   ]
  },
  {
   "cell_type": "markdown",
   "metadata": {},
   "source": [
    "Fundamental unit of data structure in Pytorch is tensors. Compared with NumPy arrays, PyTorch tensors have a few superpowers, such as the ability to perform fast operations on graphical processing units (GPUs), to distribute operations on multiple devices or machines, and to keep track of the graph of computations that created them. All these features are important in implementing a\n",
    "modern deep learning library.\n",
    "Tensors are multidimensional arrays or nd-arrays for short. The reason we say a tensor is a generalization is because we use the word tensor for all values of n like so:\n",
    "\n",
    "==>A scalar is a 0 dimensional tensor\n",
    "\n",
    "==>A vector is a 1 dimensional tensor\n",
    "\n",
    "==>A matrix is a 2 dimensional tensor\n",
    "\n",
    "==>A nd-array is an n dimensional tensor\n",
    "\n",
    "##### Rank of a Tensor\n",
    "A tensor's rank tells us how many indexes are needed to refer to a specific element within the tensor. \n",
    "\n",
    "##### Axes of a Tensor\n",
    "An axis of a tensor is a specific dimension of a tensor. \n",
    "\n",
    "##### Shape of a tensor\n",
    "The shape of a tensor gives us the length of each axis of the tensor. \n"
   ]
  },
  {
   "cell_type": "markdown",
   "metadata": {},
   "source": [
    "### Creating Tensors"
   ]
  },
  {
   "cell_type": "markdown",
   "metadata": {},
   "source": [
    "torch.tensor(list) - creates tensor of datatype same as list"
   ]
  },
  {
   "cell_type": "code",
   "execution_count": 4,
   "metadata": {},
   "outputs": [
    {
     "data": {
      "text/plain": [
       "tensor([1, 5, 8, 9, 0])"
      ]
     },
     "execution_count": 4,
     "metadata": {},
     "output_type": "execute_result"
    }
   ],
   "source": [
    "t = torch.tensor([1, 5, 8, 9, 0])\n",
    "t"
   ]
  },
  {
   "cell_type": "code",
   "execution_count": 5,
   "metadata": {},
   "outputs": [
    {
     "data": {
      "text/plain": [
       "tensor([[1, 5, 8, 9, 0],\n",
       "        [2, 5, 6, 3, 9]])"
      ]
     },
     "execution_count": 5,
     "metadata": {},
     "output_type": "execute_result"
    }
   ],
   "source": [
    "t = torch.tensor([[1, 5, 8, 9, 0], [2, 5, 6, 3, 9]])\n",
    "t"
   ]
  },
  {
   "cell_type": "code",
   "execution_count": 6,
   "metadata": {},
   "outputs": [
    {
     "data": {
      "text/plain": [
       "torch.Size([2, 5])"
      ]
     },
     "execution_count": 6,
     "metadata": {},
     "output_type": "execute_result"
    }
   ],
   "source": [
    "t.shape"
   ]
  },
  {
   "cell_type": "markdown",
   "metadata": {},
   "source": [
    " "
   ]
  },
  {
   "cell_type": "markdown",
   "metadata": {},
   "source": [
    "torch.Tensor(list) - create tensor of datatype float"
   ]
  },
  {
   "cell_type": "code",
   "execution_count": 7,
   "metadata": {},
   "outputs": [
    {
     "data": {
      "text/plain": [
       "tensor([1., 5., 8., 9., 0.])"
      ]
     },
     "execution_count": 7,
     "metadata": {},
     "output_type": "execute_result"
    }
   ],
   "source": [
    "t = torch.Tensor([1, 5, 8, 9, 0])\n",
    "t"
   ]
  },
  {
   "cell_type": "code",
   "execution_count": 8,
   "metadata": {},
   "outputs": [
    {
     "data": {
      "text/plain": [
       "tensor([[1., 5., 8., 9., 0.],\n",
       "        [2., 5., 6., 3., 9.]])"
      ]
     },
     "execution_count": 8,
     "metadata": {},
     "output_type": "execute_result"
    }
   ],
   "source": [
    "t = torch.Tensor([[1, 5, 8, 9, 0], [2, 5, 6, 3, 9]])\n",
    "t"
   ]
  },
  {
   "cell_type": "markdown",
   "metadata": {},
   "source": [
    " "
   ]
  },
  {
   "cell_type": "markdown",
   "metadata": {},
   "source": [
    "torch.ones(shape) - create tensor consisting of 1s of given shape"
   ]
  },
  {
   "cell_type": "code",
   "execution_count": 9,
   "metadata": {},
   "outputs": [
    {
     "data": {
      "text/plain": [
       "tensor([1., 1., 1., 1., 1.])"
      ]
     },
     "execution_count": 9,
     "metadata": {},
     "output_type": "execute_result"
    }
   ],
   "source": [
    "t =  torch.ones(5)\n",
    "t"
   ]
  },
  {
   "cell_type": "code",
   "execution_count": 10,
   "metadata": {},
   "outputs": [
    {
     "data": {
      "text/plain": [
       "tensor([[1., 1., 1., 1., 1.],\n",
       "        [1., 1., 1., 1., 1.]])"
      ]
     },
     "execution_count": 10,
     "metadata": {},
     "output_type": "execute_result"
    }
   ],
   "source": [
    "t =  torch.ones(2, 5)\n",
    "t"
   ]
  },
  {
   "cell_type": "markdown",
   "metadata": {},
   "source": [
    " "
   ]
  },
  {
   "cell_type": "markdown",
   "metadata": {},
   "source": [
    "torch.zeros(shape) - create tensor consisting of 0s of given shape"
   ]
  },
  {
   "cell_type": "code",
   "execution_count": 11,
   "metadata": {},
   "outputs": [
    {
     "data": {
      "text/plain": [
       "tensor([0., 0., 0., 0., 0.])"
      ]
     },
     "execution_count": 11,
     "metadata": {},
     "output_type": "execute_result"
    }
   ],
   "source": [
    "t = torch.zeros(5)\n",
    "t"
   ]
  },
  {
   "cell_type": "code",
   "execution_count": 12,
   "metadata": {},
   "outputs": [
    {
     "data": {
      "text/plain": [
       "tensor([[0., 0., 0., 0., 0.],\n",
       "        [0., 0., 0., 0., 0.]])"
      ]
     },
     "execution_count": 12,
     "metadata": {},
     "output_type": "execute_result"
    }
   ],
   "source": [
    "t = torch.zeros(2,5)\n",
    "t"
   ]
  },
  {
   "cell_type": "markdown",
   "metadata": {},
   "source": [
    " "
   ]
  },
  {
   "cell_type": "markdown",
   "metadata": {},
   "source": [
    "### Reshaping Tensor\n",
    "\n",
    "Tensors are stored in contigious location in memory in a single array. Size information is maintained by three more variables namely size, storage offset and stride. The size (or shape, in NumPy parlance) is a tuple idicating how many elements across each dimension the tensor represents. The storage offset is the index in the storage that corresponds to the first element in the tensor. The stride is the number of elements in the storage that need to be skipped to obtain the next element along each dimension. Accessing an element i, j in a 2D tensor results in accessing the storage_offset + stride[0] * i + stride[1] * j element in the storage."
   ]
  },
  {
   "cell_type": "code",
   "execution_count": 13,
   "metadata": {},
   "outputs": [
    {
     "name": "stdout",
     "output_type": "stream",
     "text": [
      "tensor([[ 1,  2,  3,  4,  5,  6,  7,  8,  9, 10, 11, 12]])\n",
      "torch.Size([1, 12])\n"
     ]
    }
   ],
   "source": [
    "t = torch.tensor([[1, 2, 3, 4, 5, 6, 7, 8, 9, 10, 11, 12]])\n",
    "print(t)\n",
    "print(t.shape)"
   ]
  },
  {
   "cell_type": "code",
   "execution_count": 14,
   "metadata": {},
   "outputs": [
    {
     "name": "stdout",
     "output_type": "stream",
     "text": [
      "tensor([[ 1,  2,  3,  4,  5,  6],\n",
      "        [ 7,  8,  9, 10, 11, 12]])\n",
      "torch.Size([2, 6])\n"
     ]
    }
   ],
   "source": [
    "t1 = t.reshape(2,6)\n",
    "print(t1)\n",
    "print(t1.shape)"
   ]
  },
  {
   "cell_type": "code",
   "execution_count": 15,
   "metadata": {},
   "outputs": [
    {
     "name": "stdout",
     "output_type": "stream",
     "text": [
      "tensor([[ 1,  2,  3,  4],\n",
      "        [ 5,  6,  7,  8],\n",
      "        [ 9, 10, 11, 12]])\n",
      "torch.Size([3, 4])\n"
     ]
    }
   ],
   "source": [
    "t1 = t.reshape(3,4)\n",
    "print(t1)\n",
    "print(t1.shape)"
   ]
  },
  {
   "cell_type": "code",
   "execution_count": 16,
   "metadata": {},
   "outputs": [
    {
     "name": "stdout",
     "output_type": "stream",
     "text": [
      "tensor([[ 1,  2,  3],\n",
      "        [ 4,  5,  6],\n",
      "        [ 7,  8,  9],\n",
      "        [10, 11, 12]])\n",
      "torch.Size([4, 3])\n"
     ]
    }
   ],
   "source": [
    "t1 = t.reshape(4,3)\n",
    "print(t1)\n",
    "print(t1.shape)"
   ]
  },
  {
   "cell_type": "code",
   "execution_count": 17,
   "metadata": {},
   "outputs": [
    {
     "name": "stdout",
     "output_type": "stream",
     "text": [
      "tensor([[ 1,  2],\n",
      "        [ 3,  4],\n",
      "        [ 5,  6],\n",
      "        [ 7,  8],\n",
      "        [ 9, 10],\n",
      "        [11, 12]])\n",
      "torch.Size([6, 2])\n"
     ]
    }
   ],
   "source": [
    "t1 = t.reshape(6,2)\n",
    "print(t1)\n",
    "print(t1.shape)"
   ]
  },
  {
   "cell_type": "markdown",
   "metadata": {},
   "source": [
    " "
   ]
  },
  {
   "cell_type": "markdown",
   "metadata": {},
   "source": [
    "### Cloning Tensors\n",
    "\n",
    "If you use a tensor to assign value to a new tensor, it copy the refrrence rather that creating a copy of data. So, any change in original tensor would be reflected in original tensor and vice versa. To make a copy, we use clone."
   ]
  },
  {
   "cell_type": "code",
   "execution_count": 18,
   "metadata": {},
   "outputs": [
    {
     "data": {
      "text/plain": [
       "tensor([[1., 1., 1., 1.],\n",
       "        [1., 1., 1., 1.],\n",
       "        [1., 1., 1., 1.]])"
      ]
     },
     "execution_count": 18,
     "metadata": {},
     "output_type": "execute_result"
    }
   ],
   "source": [
    "#create a tensor\n",
    "t = torch.ones(3,4)\n",
    "t"
   ]
  },
  {
   "cell_type": "code",
   "execution_count": 19,
   "metadata": {},
   "outputs": [
    {
     "data": {
      "text/plain": [
       "tensor([1., 1., 1., 1.])"
      ]
     },
     "execution_count": 19,
     "metadata": {},
     "output_type": "execute_result"
    }
   ],
   "source": [
    "#assign value to new tensor using original tensor\n",
    "t1 = t[1]\n",
    "t1"
   ]
  },
  {
   "cell_type": "code",
   "execution_count": 20,
   "metadata": {},
   "outputs": [
    {
     "data": {
      "text/plain": [
       "tensor([[  1.,   1.,   1.,   1.],\n",
       "        [100.,   1.,   1.,   1.],\n",
       "        [  1.,   1.,   1.,   1.]])"
      ]
     },
     "execution_count": 20,
     "metadata": {},
     "output_type": "execute_result"
    }
   ],
   "source": [
    "#make change in original tensor\n",
    "t[1][0] = 100\n",
    "t"
   ]
  },
  {
   "cell_type": "code",
   "execution_count": 21,
   "metadata": {},
   "outputs": [
    {
     "data": {
      "text/plain": [
       "tensor([100.,   1.,   1.,   1.])"
      ]
     },
     "execution_count": 21,
     "metadata": {},
     "output_type": "execute_result"
    }
   ],
   "source": [
    "#changes reflected in new tensor\n",
    "t1"
   ]
  },
  {
   "cell_type": "code",
   "execution_count": 22,
   "metadata": {},
   "outputs": [
    {
     "name": "stdout",
     "output_type": "stream",
     "text": [
      "t :  tensor([[  1.,   1.,   1.,   1.],\n",
      "        [100.,   1.,   1.,   1.],\n",
      "        [  1.,   1.,   1.,   1.]])\n",
      "t1 :  tensor([1., 1., 1., 1.])\n"
     ]
    }
   ],
   "source": [
    "#Now, let do same thing by creating a clone instead of assigning\n",
    "t = torch.ones(3,4)\n",
    "t1 = t[1].clone()\n",
    "t[1][0] = 100\n",
    "print('t : ', t)\n",
    "print('t1 : ',t1)"
   ]
  },
  {
   "cell_type": "markdown",
   "metadata": {},
   "source": [
    "### Numeric Datatypes"
   ]
  },
  {
   "cell_type": "raw",
   "metadata": {},
   "source": [
    "Pytorch supports a wide range of numeric datatypes. We use them to provide tensor(), ones(), zeros() methods an argument to specify datatypes. We can check dtatype using dtype.\n",
    "\n",
    "torch.float32 or torch.float       — 32-bit floating-point\n",
    "torch.float64 or torch.double      — 64-bit, double-precision floating-point\n",
    "torch.float16 or torch.half        — 16-bit, half-precision floating-point\n",
    "torch.int8                         — Signed 8-bit integers\n",
    "torch.uint8                        — Unsigned 8-bit integers\n",
    "torch.int16 or torch.short         — Signed 16-bit integers\n",
    "torch.int32 or torch.int           — Signed 32-bit integers\n",
    "torch.int64 or torch.long          — Signed 64-bit integers"
   ]
  },
  {
   "cell_type": "code",
   "execution_count": 23,
   "metadata": {},
   "outputs": [
    {
     "name": "stdout",
     "output_type": "stream",
     "text": [
      "tensor([1., 2., 3.])\n",
      "torch.float32\n"
     ]
    }
   ],
   "source": [
    "t =  torch.tensor([1,2,3], dtype= torch.float32)\n",
    "print(t)\n",
    "print(t.dtype)"
   ]
  },
  {
   "cell_type": "code",
   "execution_count": 24,
   "metadata": {},
   "outputs": [
    {
     "name": "stdout",
     "output_type": "stream",
     "text": [
      "tensor([[1, 1, 1, 1],\n",
      "        [1, 1, 1, 1]], dtype=torch.int32)\n",
      "torch.int32\n"
     ]
    }
   ],
   "source": [
    "t =  torch.ones((2,4), dtype= torch.int32)\n",
    "print(t)\n",
    "print(t.dtype)"
   ]
  },
  {
   "cell_type": "markdown",
   "metadata": {},
   "source": [
    " "
   ]
  },
  {
   "cell_type": "markdown",
   "metadata": {},
   "source": [
    "### Tensors Indexing"
   ]
  },
  {
   "cell_type": "markdown",
   "metadata": {},
   "source": [
    "It s similar to numpy indexing. Here are a few examples"
   ]
  },
  {
   "cell_type": "code",
   "execution_count": 25,
   "metadata": {},
   "outputs": [
    {
     "data": {
      "text/plain": [
       "tensor([[-1.1490, -1.3199,  2.4762,  1.2706, -0.0756,  0.8935],\n",
       "        [-0.1020, -0.2670,  1.6395, -0.2621, -1.1083, -1.0165],\n",
       "        [-0.3235, -0.7428,  0.0430,  0.1984, -0.6850, -1.4141],\n",
       "        [ 1.2443, -0.2294,  1.0594, -0.3388,  0.3721,  1.2341],\n",
       "        [ 0.7832, -2.1094,  0.3101,  1.8629, -1.5745, -1.1759],\n",
       "        [-0.4602, -0.1969, -0.8087, -0.2463, -0.0309,  0.8013]])"
      ]
     },
     "execution_count": 25,
     "metadata": {},
     "output_type": "execute_result"
    }
   ],
   "source": [
    "t = torch.randn((6,6), dtype=torch.float)\n",
    "t"
   ]
  },
  {
   "cell_type": "code",
   "execution_count": 26,
   "metadata": {},
   "outputs": [
    {
     "data": {
      "text/plain": [
       "tensor([-1.1490, -0.1020, -0.3235,  1.2443,  0.7832, -0.4602])"
      ]
     },
     "execution_count": 26,
     "metadata": {},
     "output_type": "execute_result"
    }
   ],
   "source": [
    "#all rows one column\n",
    "t[:,0]"
   ]
  },
  {
   "cell_type": "code",
   "execution_count": 27,
   "metadata": {},
   "outputs": [
    {
     "data": {
      "text/plain": [
       "tensor([-1.1490, -1.3199,  2.4762,  1.2706, -0.0756,  0.8935])"
      ]
     },
     "execution_count": 27,
     "metadata": {},
     "output_type": "execute_result"
    }
   ],
   "source": [
    "#all columns one row\n",
    "t[0,:]"
   ]
  },
  {
   "cell_type": "code",
   "execution_count": 28,
   "metadata": {},
   "outputs": [
    {
     "name": "stdout",
     "output_type": "stream",
     "text": [
      "tensor(0.1984)\n",
      "tensor(0.1984)\n"
     ]
    }
   ],
   "source": [
    "# ith row, jth column\n",
    "\n",
    "print(t[2][3])\n",
    "\n",
    "print(t[2,3])"
   ]
  },
  {
   "cell_type": "code",
   "execution_count": 29,
   "metadata": {},
   "outputs": [
    {
     "name": "stdout",
     "output_type": "stream",
     "text": [
      "tensor([[ 2.4762,  1.2706],\n",
      "        [ 1.6395, -0.2621]])\n"
     ]
    }
   ],
   "source": [
    "# row 0 to 2, column 2, 4\n",
    "print(t[0:2, 2:4])"
   ]
  },
  {
   "cell_type": "code",
   "execution_count": 30,
   "metadata": {},
   "outputs": [
    {
     "data": {
      "text/plain": [
       "tensor([[-1.1490, -1.3199,  2.4762,  1.2706, -0.0756],\n",
       "        [-0.1020, -0.2670,  1.6395, -0.2621, -1.1083],\n",
       "        [-0.3235, -0.7428,  0.0430,  0.1984, -0.6850],\n",
       "        [ 1.2443, -0.2294,  1.0594, -0.3388,  0.3721],\n",
       "        [ 0.7832, -2.1094,  0.3101,  1.8629, -1.5745],\n",
       "        [-0.4602, -0.1969, -0.8087, -0.2463, -0.0309]])"
      ]
     },
     "execution_count": 30,
     "metadata": {},
     "output_type": "execute_result"
    }
   ],
   "source": [
    "# all ropws and from first column to one before last column\n",
    "t[:,:-1]"
   ]
  },
  {
   "cell_type": "markdown",
   "metadata": {},
   "source": [
    " "
   ]
  },
  {
   "cell_type": "markdown",
   "metadata": {},
   "source": [
    "### Numpy to Pytorch and Vice Versa"
   ]
  },
  {
   "cell_type": "markdown",
   "metadata": {},
   "source": [
    "##### Copies data\n",
    "\n",
    "torch.tensor(data)\n",
    "\n",
    "torch.Tensor(data)\n",
    "\n",
    "##### Shares data\n",
    "\n",
    "torch.as_tensor(data)\n",
    "\n",
    "torch.from_numpy(data)"
   ]
  },
  {
   "cell_type": "code",
   "execution_count": 31,
   "metadata": {},
   "outputs": [
    {
     "data": {
      "text/plain": [
       "array([[-0.23653952,  1.77608936,  0.17587083, -0.81429013],\n",
       "       [ 0.55348033,  0.05656446, -0.19696246, -0.94315491],\n",
       "       [ 0.19164069, -0.85753772,  0.32068837,  0.50057101]])"
      ]
     },
     "execution_count": 31,
     "metadata": {},
     "output_type": "execute_result"
    }
   ],
   "source": [
    "data = np.random.randn(3,4)\n",
    "data"
   ]
  },
  {
   "cell_type": "code",
   "execution_count": 32,
   "metadata": {},
   "outputs": [
    {
     "name": "stdout",
     "output_type": "stream",
     "text": [
      "tensor([[-0.2365,  1.7761,  0.1759, -0.8143],\n",
      "        [ 0.5535,  0.0566, -0.1970, -0.9432],\n",
      "        [ 0.1916, -0.8575,  0.3207,  0.5006]], dtype=torch.float64)\n",
      "\n",
      " tensor([[ 0.0000,  1.7761,  0.1759, -0.8143],\n",
      "        [ 0.5535,  0.0566, -0.1970, -0.9432],\n",
      "        [ 0.1916, -0.8575,  0.3207,  0.5006]], dtype=torch.float64)\n",
      "\n",
      " [[-0.23653952  1.77608936  0.17587083 -0.81429013]\n",
      " [ 0.55348033  0.05656446 -0.19696246 -0.94315491]\n",
      " [ 0.19164069 -0.85753772  0.32068837  0.50057101]]\n"
     ]
    }
   ],
   "source": [
    "#create a tensor by methods that copies\n",
    "t = torch.tensor(data)\n",
    "print(t)\n",
    "#make change in new tensor\n",
    "t[0,0] = 0\n",
    "print('\\n',t)\n",
    "#change not reflected\n",
    "print('\\n',data)"
   ]
  },
  {
   "cell_type": "code",
   "execution_count": 33,
   "metadata": {},
   "outputs": [
    {
     "name": "stdout",
     "output_type": "stream",
     "text": [
      "tensor([[-0.2365,  1.7761,  0.1759, -0.8143],\n",
      "        [ 0.5535,  0.0566, -0.1970, -0.9432],\n",
      "        [ 0.1916, -0.8575,  0.3207,  0.5006]], dtype=torch.float64)\n",
      "\n",
      " tensor([[ 0.0000,  1.7761,  0.1759, -0.8143],\n",
      "        [ 0.5535,  0.0566, -0.1970, -0.9432],\n",
      "        [ 0.1916, -0.8575,  0.3207,  0.5006]], dtype=torch.float64)\n",
      "\n",
      " [[ 0.          1.77608936  0.17587083 -0.81429013]\n",
      " [ 0.55348033  0.05656446 -0.19696246 -0.94315491]\n",
      " [ 0.19164069 -0.85753772  0.32068837  0.50057101]]\n"
     ]
    }
   ],
   "source": [
    "#create a tensor by methods that shares data\n",
    "t = torch.as_tensor(data)\n",
    "print(t)\n",
    "#make change in new tensor\n",
    "t[0,0] = 0\n",
    "print('\\n',t)\n",
    "#change reflected\n",
    "print('\\n',data)"
   ]
  },
  {
   "cell_type": "code",
   "execution_count": 34,
   "metadata": {},
   "outputs": [
    {
     "data": {
      "text/plain": [
       "array([[ 0.        ,  1.77608936,  0.17587083, -0.81429013],\n",
       "       [ 0.55348033,  0.05656446, -0.19696246, -0.94315491],\n",
       "       [ 0.19164069, -0.85753772,  0.32068837,  0.50057101]])"
      ]
     },
     "execution_count": 34,
     "metadata": {},
     "output_type": "execute_result"
    }
   ],
   "source": [
    "#To covert tensor to numpy array\n",
    "arr = t.numpy()\n",
    "arr"
   ]
  },
  {
   "cell_type": "code",
   "execution_count": 36,
   "metadata": {},
   "outputs": [
    {
     "data": {
      "text/plain": [
       "array([[ 0.        , 22.        ,  0.17587083, -0.81429013],\n",
       "       [ 0.55348033,  0.05656446, -0.19696246, -0.94315491],\n",
       "       [ 0.19164069, -0.85753772,  0.32068837,  0.50057101]])"
      ]
     },
     "execution_count": 36,
     "metadata": {},
     "output_type": "execute_result"
    }
   ],
   "source": [
    "#change in numpy array\n",
    "arr[0,1] = 22\n",
    "arr"
   ]
  },
  {
   "cell_type": "code",
   "execution_count": 37,
   "metadata": {},
   "outputs": [
    {
     "data": {
      "text/plain": [
       "tensor(22., dtype=torch.float64)"
      ]
     },
     "execution_count": 37,
     "metadata": {},
     "output_type": "execute_result"
    }
   ],
   "source": [
    "#change reflected in numpy\n",
    "t[0,1]"
   ]
  },
  {
   "cell_type": "code",
   "execution_count": 49,
   "metadata": {},
   "outputs": [],
   "source": [
    "arr2 = t.numpy()\n",
    "arr2 = np.array(arr2)"
   ]
  },
  {
   "cell_type": "code",
   "execution_count": 50,
   "metadata": {},
   "outputs": [
    {
     "data": {
      "text/plain": [
       "23.0"
      ]
     },
     "execution_count": 50,
     "metadata": {},
     "output_type": "execute_result"
    }
   ],
   "source": [
    "#make change in numpy array\n",
    "arr2[0,1] = 23\n",
    "arr2[0,1]"
   ]
  },
  {
   "cell_type": "code",
   "execution_count": 51,
   "metadata": {},
   "outputs": [
    {
     "data": {
      "text/plain": [
       "tensor(11., dtype=torch.float64)"
      ]
     },
     "execution_count": 51,
     "metadata": {},
     "output_type": "execute_result"
    }
   ],
   "source": [
    "#change not reflected\n",
    "t[0,1]"
   ]
  },
  {
   "cell_type": "markdown",
   "metadata": {},
   "source": [
    " "
   ]
  },
  {
   "cell_type": "markdown",
   "metadata": {},
   "source": [
    " "
   ]
  },
  {
   "cell_type": "markdown",
   "metadata": {},
   "source": [
    "### Squeezing and Unsqueezing Tensors\n",
    "\n",
    "\n",
    "Squeezing a tensor removes the dimensions or axes that have a length of one.\n",
    "\n",
    "Unsqueezing a tensor adds a dimension with a length of one.\n"
   ]
  },
  {
   "cell_type": "code",
   "execution_count": 34,
   "metadata": {},
   "outputs": [
    {
     "name": "stdout",
     "output_type": "stream",
     "text": [
      "tensor([[1., 1., 1., 1., 1.]])\n",
      "torch.Size([1, 5])\n"
     ]
    }
   ],
   "source": [
    "t = torch.ones(1,5)\n",
    "print(t)\n",
    "print(t.shape)"
   ]
  },
  {
   "cell_type": "code",
   "execution_count": 35,
   "metadata": {},
   "outputs": [
    {
     "name": "stdout",
     "output_type": "stream",
     "text": [
      "tensor([1., 1., 1., 1., 1.])\n",
      "torch.Size([5])\n"
     ]
    }
   ],
   "source": [
    "#squeezing tensor removes one dimension rom tensor\n",
    "t1 = t.squeeze()\n",
    "print(t1)\n",
    "print(t1.shape)"
   ]
  },
  {
   "cell_type": "code",
   "execution_count": 36,
   "metadata": {},
   "outputs": [
    {
     "name": "stdout",
     "output_type": "stream",
     "text": [
      "tensor([[[1., 1., 1., 1., 1.]]])\n",
      "torch.Size([1, 1, 5])\n",
      "\n",
      " tensor([[[1., 1., 1., 1., 1.]]])\n",
      "torch.Size([1, 1, 5])\n",
      "\n",
      " tensor([[[1.],\n",
      "         [1.],\n",
      "         [1.],\n",
      "         [1.],\n",
      "         [1.]]])\n",
      "torch.Size([1, 5, 1])\n"
     ]
    }
   ],
   "source": [
    "#Unsqueezing by putting one more dimention at 0th dimension\n",
    "t1 = t1 = t.unsqueeze(dim=0)\n",
    "print(t1)\n",
    "print(t1.shape)\n",
    "\n",
    "#Unsqueezing by putting one more dimention at 1st dimension\n",
    "t1 = t1 = t.unsqueeze(dim=1)\n",
    "print('\\n',t1)\n",
    "print(t1.shape)\n",
    "\n",
    "#Unsqueezing by putting one more dimention at 2nd dimension\n",
    "t1 = t1 = t.unsqueeze(dim=2)\n",
    "print('\\n',t1)\n",
    "print(t1.shape)"
   ]
  },
  {
   "cell_type": "markdown",
   "metadata": {},
   "source": [
    " "
   ]
  },
  {
   "cell_type": "markdown",
   "metadata": {},
   "source": [
    "### Concatenating tensors\n",
    "\n",
    "We combine tensors using the cat() function, and the resulting tensor will have a shape that depends on the shape of the two input tensors.\n"
   ]
  },
  {
   "cell_type": "code",
   "execution_count": 37,
   "metadata": {},
   "outputs": [
    {
     "name": "stdout",
     "output_type": "stream",
     "text": [
      "tensor([[1, 5],\n",
      "        [8, 9]])\n",
      "tensor([[1., 0.],\n",
      "        [0., 1.]])\n"
     ]
    }
   ],
   "source": [
    "t1 = torch.tensor([[1,5],[8,9]])\n",
    "t2 = torch.eye(2)\n",
    "print(t1)\n",
    "print(t2)"
   ]
  },
  {
   "cell_type": "code",
   "execution_count": 38,
   "metadata": {},
   "outputs": [
    {
     "data": {
      "text/plain": [
       "tensor([[1, 5],\n",
       "        [8, 9],\n",
       "        [1, 5],\n",
       "        [8, 9]])"
      ]
     },
     "execution_count": 38,
     "metadata": {},
     "output_type": "execute_result"
    }
   ],
   "source": [
    "torch.cat((t1,t1), dim=0)"
   ]
  },
  {
   "cell_type": "code",
   "execution_count": 39,
   "metadata": {},
   "outputs": [
    {
     "data": {
      "text/plain": [
       "tensor([[1, 5, 1, 5],\n",
       "        [8, 9, 8, 9]])"
      ]
     },
     "execution_count": 39,
     "metadata": {},
     "output_type": "execute_result"
    }
   ],
   "source": [
    "torch.cat((t1,t1), dim=1)"
   ]
  },
  {
   "cell_type": "markdown",
   "metadata": {},
   "source": [
    " "
   ]
  },
  {
   "cell_type": "markdown",
   "metadata": {},
   "source": [
    "### Stacking Tensors"
   ]
  },
  {
   "cell_type": "code",
   "execution_count": 40,
   "metadata": {},
   "outputs": [
    {
     "name": "stdout",
     "output_type": "stream",
     "text": [
      "tensor([[1., 0.],\n",
      "        [0., 1.]])\n",
      "tensor([[1., 1.],\n",
      "        [1., 1.]])\n",
      "tensor([[0., 0.],\n",
      "        [0., 0.]])\n"
     ]
    }
   ],
   "source": [
    "t1 = torch.eye(2)\n",
    "t2 = torch.ones(2,2)\n",
    "t3 = torch.zeros(2,2)\n",
    "print(t1)\n",
    "print(t2)\n",
    "print(t3)"
   ]
  },
  {
   "cell_type": "code",
   "execution_count": 41,
   "metadata": {},
   "outputs": [
    {
     "data": {
      "text/plain": [
       "tensor([[[1., 0.],\n",
       "         [0., 1.]],\n",
       "\n",
       "        [[1., 1.],\n",
       "         [1., 1.]],\n",
       "\n",
       "        [[0., 0.],\n",
       "         [0., 0.]]])"
      ]
     },
     "execution_count": 41,
     "metadata": {},
     "output_type": "execute_result"
    }
   ],
   "source": [
    "torch.stack((t1, t2, t3))"
   ]
  },
  {
   "cell_type": "code",
   "execution_count": 42,
   "metadata": {},
   "outputs": [
    {
     "data": {
      "text/plain": [
       "torch.Size([3, 2, 2])"
      ]
     },
     "execution_count": 42,
     "metadata": {},
     "output_type": "execute_result"
    }
   ],
   "source": [
    "torch.stack((t1, t2, t3)).shape"
   ]
  },
  {
   "cell_type": "markdown",
   "metadata": {},
   "source": [
    " "
   ]
  },
  {
   "cell_type": "markdown",
   "metadata": {},
   "source": [
    "### Arithematic & Logical Operations"
   ]
  },
  {
   "cell_type": "code",
   "execution_count": 43,
   "metadata": {},
   "outputs": [
    {
     "name": "stdout",
     "output_type": "stream",
     "text": [
      "tensor([[1., 0.],\n",
      "        [0., 1.]])\n",
      "tensor([[1., 1.],\n",
      "        [1., 1.]])\n"
     ]
    }
   ],
   "source": [
    "t1 = torch.eye(2)\n",
    "t2 = torch.ones(2,2)\n",
    "print(t1)\n",
    "print(t2)"
   ]
  },
  {
   "cell_type": "code",
   "execution_count": 44,
   "metadata": {},
   "outputs": [
    {
     "name": "stdout",
     "output_type": "stream",
     "text": [
      "tensor([[2., 1.],\n",
      "        [1., 2.]])\n",
      "tensor([[2., 1.],\n",
      "        [1., 2.]])\n"
     ]
    }
   ],
   "source": [
    "#Element wise addition\n",
    "print(t1+t2)\n",
    "print(t1.add(t2))"
   ]
  },
  {
   "cell_type": "code",
   "execution_count": 45,
   "metadata": {},
   "outputs": [
    {
     "name": "stdout",
     "output_type": "stream",
     "text": [
      "tensor([[ 0., -1.],\n",
      "        [-1.,  0.]])\n",
      "tensor([[ 0., -1.],\n",
      "        [-1.,  0.]])\n"
     ]
    }
   ],
   "source": [
    "#Element wise subtraction\n",
    "print(t1-t2)\n",
    "print(t1.sub(t2))"
   ]
  },
  {
   "cell_type": "code",
   "execution_count": 46,
   "metadata": {},
   "outputs": [
    {
     "name": "stdout",
     "output_type": "stream",
     "text": [
      "tensor([[1., 0.],\n",
      "        [0., 1.]])\n",
      "tensor([[1., 0.],\n",
      "        [0., 1.]])\n"
     ]
    }
   ],
   "source": [
    "#Element wise multiplication\n",
    "print(t1*t2)\n",
    "print(t1.mul(t2))"
   ]
  },
  {
   "cell_type": "code",
   "execution_count": 47,
   "metadata": {},
   "outputs": [
    {
     "name": "stdout",
     "output_type": "stream",
     "text": [
      "tensor([[1., 0.],\n",
      "        [0., 1.]])\n",
      "tensor([[1., 0.],\n",
      "        [0., 1.]])\n"
     ]
    }
   ],
   "source": [
    "#Element wise division\n",
    "print(t1/t2)\n",
    "print(t1.div(t2))"
   ]
  },
  {
   "cell_type": "code",
   "execution_count": 48,
   "metadata": {},
   "outputs": [
    {
     "name": "stdout",
     "output_type": "stream",
     "text": [
      "tensor([[ 0.6940, -0.8555, -0.3968],\n",
      "        [-0.3961,  1.1634, -0.3698]])\n",
      "tensor([[ 0.0335,  1.5297, -0.5643,  0.8428],\n",
      "        [ 0.5113,  0.8004,  0.1966,  1.4296],\n",
      "        [ 0.6278, -0.5025, -0.1809, -0.5126]])\n"
     ]
    }
   ],
   "source": [
    "t1 = torch.randn(2,3)\n",
    "t2 = torch.randn(3,4)\n",
    "print(t1)\n",
    "print(t2)"
   ]
  },
  {
   "cell_type": "code",
   "execution_count": 49,
   "metadata": {},
   "outputs": [
    {
     "data": {
      "text/plain": [
       "tensor([[-0.6633,  0.5763, -0.4880, -0.4347],\n",
       "        [ 0.3494,  0.5112,  0.5191,  1.5190]])"
      ]
     },
     "execution_count": 49,
     "metadata": {},
     "output_type": "execute_result"
    }
   ],
   "source": [
    "#Matrix Multiplication\n",
    "torch.matmul(t1,t2)"
   ]
  },
  {
   "cell_type": "code",
   "execution_count": 50,
   "metadata": {},
   "outputs": [],
   "source": [
    "t = torch.eye(2)"
   ]
  },
  {
   "cell_type": "code",
   "execution_count": 51,
   "metadata": {},
   "outputs": [
    {
     "data": {
      "text/plain": [
       "tensor([[False,  True],\n",
       "        [ True, False]])"
      ]
     },
     "execution_count": 51,
     "metadata": {},
     "output_type": "execute_result"
    }
   ],
   "source": [
    "#equals to\n",
    "t.eq(0)"
   ]
  },
  {
   "cell_type": "code",
   "execution_count": 52,
   "metadata": {},
   "outputs": [
    {
     "data": {
      "text/plain": [
       "tensor([[True, True],\n",
       "        [True, True]])"
      ]
     },
     "execution_count": 52,
     "metadata": {},
     "output_type": "execute_result"
    }
   ],
   "source": [
    "#greater than equals to\n",
    "t.ge(0)"
   ]
  },
  {
   "cell_type": "code",
   "execution_count": 53,
   "metadata": {},
   "outputs": [
    {
     "data": {
      "text/plain": [
       "tensor([[ True, False],\n",
       "        [False,  True]])"
      ]
     },
     "execution_count": 53,
     "metadata": {},
     "output_type": "execute_result"
    }
   ],
   "source": [
    "#greater than\n",
    "t.gt(0)"
   ]
  },
  {
   "cell_type": "code",
   "execution_count": 54,
   "metadata": {},
   "outputs": [
    {
     "data": {
      "text/plain": [
       "tensor([[False,  True],\n",
       "        [ True, False]])"
      ]
     },
     "execution_count": 54,
     "metadata": {},
     "output_type": "execute_result"
    }
   ],
   "source": [
    "#less than equals to\n",
    "t.le(0)"
   ]
  },
  {
   "cell_type": "code",
   "execution_count": 55,
   "metadata": {},
   "outputs": [
    {
     "data": {
      "text/plain": [
       "tensor([[False, False],\n",
       "        [False, False]])"
      ]
     },
     "execution_count": 55,
     "metadata": {},
     "output_type": "execute_result"
    }
   ],
   "source": [
    "#less than\n",
    "t.lt(0)"
   ]
  },
  {
   "cell_type": "code",
   "execution_count": 56,
   "metadata": {},
   "outputs": [],
   "source": [
    "t1 = torch.eye(2)\n",
    "t2 = torch.ones(2,2)"
   ]
  },
  {
   "cell_type": "code",
   "execution_count": 57,
   "metadata": {},
   "outputs": [
    {
     "data": {
      "text/plain": [
       "tensor([[True, True],\n",
       "        [True, True]])"
      ]
     },
     "execution_count": 57,
     "metadata": {},
     "output_type": "execute_result"
    }
   ],
   "source": [
    "t1<=t2"
   ]
  },
  {
   "cell_type": "code",
   "execution_count": 58,
   "metadata": {},
   "outputs": [
    {
     "data": {
      "text/plain": [
       "tensor([[ True, False],\n",
       "        [False,  True]])"
      ]
     },
     "execution_count": 58,
     "metadata": {},
     "output_type": "execute_result"
    }
   ],
   "source": [
    "t1==t2"
   ]
  },
  {
   "cell_type": "markdown",
   "metadata": {},
   "source": [
    "### Using a GPU"
   ]
  },
  {
   "cell_type": "markdown",
   "metadata": {},
   "source": [
    "To use a GPU, you need to send tensor to the GPU device namely 'cuda'"
   ]
  },
  {
   "cell_type": "code",
   "execution_count": 59,
   "metadata": {},
   "outputs": [
    {
     "name": "stdout",
     "output_type": "stream",
     "text": [
      "cpu\n"
     ]
    }
   ],
   "source": [
    "device  = torch.device(\"cuda:0\" if torch.cuda.is_available() else \"cpu\")\n",
    "print(device)"
   ]
  },
  {
   "cell_type": "code",
   "execution_count": 60,
   "metadata": {},
   "outputs": [
    {
     "data": {
      "text/plain": [
       "tensor([[1, 2],\n",
       "        [2, 3]])"
      ]
     },
     "execution_count": 60,
     "metadata": {},
     "output_type": "execute_result"
    }
   ],
   "source": [
    "t = torch.tensor([[1,2],[2,3]], device=device)\n",
    "t"
   ]
  },
  {
   "cell_type": "code",
   "execution_count": 61,
   "metadata": {},
   "outputs": [
    {
     "data": {
      "text/plain": [
       "tensor([[1, 2],\n",
       "        [2, 3]])"
      ]
     },
     "execution_count": 61,
     "metadata": {},
     "output_type": "execute_result"
    }
   ],
   "source": [
    "t = torch.tensor([[1,2],[2,3]]).to(device)\n",
    "t"
   ]
  },
  {
   "cell_type": "code",
   "execution_count": 62,
   "metadata": {},
   "outputs": [
    {
     "data": {
      "text/plain": [
       "tensor([[1, 2],\n",
       "        [2, 3]])"
      ]
     },
     "execution_count": 62,
     "metadata": {},
     "output_type": "execute_result"
    }
   ],
   "source": [
    "t = torch.tensor([[1,2],[2,3]]).cuda()\n",
    "t"
   ]
  },
  {
   "cell_type": "code",
   "execution_count": 63,
   "metadata": {},
   "outputs": [
    {
     "data": {
      "text/plain": [
       "tensor([[1, 2],\n",
       "        [2, 3]])"
      ]
     },
     "execution_count": 63,
     "metadata": {},
     "output_type": "execute_result"
    }
   ],
   "source": [
    "t = torch.tensor([[1,2],[2,3]]).cuda()\n",
    "t"
   ]
  },
  {
   "cell_type": "markdown",
   "metadata": {},
   "source": [
    "### Flattening a Tensor\n",
    "\n",
    "It is the process of converting a multidimentional array to a one dimentional array. We can also mention start_dim to specify that dimension from which we start flattening tensor"
   ]
  },
  {
   "cell_type": "code",
   "execution_count": 64,
   "metadata": {},
   "outputs": [
    {
     "data": {
      "text/plain": [
       "tensor([[[ 1.0591, -1.1709, -0.5956, -0.0351],\n",
       "         [-0.5657, -1.3186, -1.8893, -0.4637],\n",
       "         [ 1.7192,  2.0543, -1.2982,  0.9761]],\n",
       "\n",
       "        [[ 1.5642, -0.4332, -0.2552,  0.8541],\n",
       "         [-1.3210, -0.1880, -0.4967,  2.5834],\n",
       "         [-0.7808, -1.4271, -0.4132, -0.7121]]])"
      ]
     },
     "execution_count": 64,
     "metadata": {},
     "output_type": "execute_result"
    }
   ],
   "source": [
    "t = torch.empty(2,3,4).normal_(mean=0,std=1)\n",
    "t"
   ]
  },
  {
   "cell_type": "code",
   "execution_count": 65,
   "metadata": {},
   "outputs": [
    {
     "data": {
      "text/plain": [
       "tensor([ 1.0591, -1.1709, -0.5956, -0.0351, -0.5657, -1.3186, -1.8893, -0.4637,\n",
       "         1.7192,  2.0543, -1.2982,  0.9761,  1.5642, -0.4332, -0.2552,  0.8541,\n",
       "        -1.3210, -0.1880, -0.4967,  2.5834, -0.7808, -1.4271, -0.4132, -0.7121])"
      ]
     },
     "execution_count": 65,
     "metadata": {},
     "output_type": "execute_result"
    }
   ],
   "source": [
    "torch.flatten(t)"
   ]
  },
  {
   "cell_type": "code",
   "execution_count": 66,
   "metadata": {},
   "outputs": [
    {
     "data": {
      "text/plain": [
       "tensor([[ 1.0591, -1.1709, -0.5956, -0.0351, -0.5657, -1.3186, -1.8893, -0.4637,\n",
       "          1.7192,  2.0543, -1.2982,  0.9761],\n",
       "        [ 1.5642, -0.4332, -0.2552,  0.8541, -1.3210, -0.1880, -0.4967,  2.5834,\n",
       "         -0.7808, -1.4271, -0.4132, -0.7121]])"
      ]
     },
     "execution_count": 66,
     "metadata": {},
     "output_type": "execute_result"
    }
   ],
   "source": [
    "torch.flatten(t,start_dim=1)"
   ]
  },
  {
   "cell_type": "markdown",
   "metadata": {},
   "source": [
    " "
   ]
  },
  {
   "cell_type": "markdown",
   "metadata": {},
   "source": [
    "### Other important operations"
   ]
  },
  {
   "cell_type": "markdown",
   "metadata": {},
   "source": [
    "##### 1-D tensor"
   ]
  },
  {
   "cell_type": "code",
   "execution_count": 67,
   "metadata": {},
   "outputs": [
    {
     "data": {
      "text/plain": [
       "tensor([-1.4419,  1.9182,  0.6474, -0.3975, -1.6767,  0.3167,  0.2434,  0.3877,\n",
       "         1.4522,  0.0276])"
      ]
     },
     "execution_count": 67,
     "metadata": {},
     "output_type": "execute_result"
    }
   ],
   "source": [
    "t = torch.randn(10)\n",
    "t"
   ]
  },
  {
   "cell_type": "code",
   "execution_count": 68,
   "metadata": {},
   "outputs": [
    {
     "data": {
      "text/plain": [
       "tensor(1.9182)"
      ]
     },
     "execution_count": 68,
     "metadata": {},
     "output_type": "execute_result"
    }
   ],
   "source": [
    "#To find max\n",
    "torch.max(t)"
   ]
  },
  {
   "cell_type": "code",
   "execution_count": 69,
   "metadata": {},
   "outputs": [
    {
     "data": {
      "text/plain": [
       "tensor(-1.6767)"
      ]
     },
     "execution_count": 69,
     "metadata": {},
     "output_type": "execute_result"
    }
   ],
   "source": [
    "#To find min\n",
    "torch.min(t)"
   ]
  },
  {
   "cell_type": "code",
   "execution_count": 70,
   "metadata": {},
   "outputs": [
    {
     "data": {
      "text/plain": [
       "tensor(1)"
      ]
     },
     "execution_count": 70,
     "metadata": {},
     "output_type": "execute_result"
    }
   ],
   "source": [
    "#To find index with max value\n",
    "torch.argmax(t)"
   ]
  },
  {
   "cell_type": "code",
   "execution_count": 71,
   "metadata": {},
   "outputs": [
    {
     "data": {
      "text/plain": [
       "tensor(4)"
      ]
     },
     "execution_count": 71,
     "metadata": {},
     "output_type": "execute_result"
    }
   ],
   "source": [
    "#To find index with min value\n",
    "torch.argmin(t)"
   ]
  },
  {
   "cell_type": "code",
   "execution_count": 72,
   "metadata": {},
   "outputs": [
    {
     "data": {
      "text/plain": [
       "tensor(0.1477)"
      ]
     },
     "execution_count": 72,
     "metadata": {},
     "output_type": "execute_result"
    }
   ],
   "source": [
    "#To find mean of tensor\n",
    "torch.mean(t)"
   ]
  },
  {
   "cell_type": "code",
   "execution_count": 73,
   "metadata": {},
   "outputs": [
    {
     "data": {
      "text/plain": [
       "tensor(1.1229)"
      ]
     },
     "execution_count": 73,
     "metadata": {},
     "output_type": "execute_result"
    }
   ],
   "source": [
    "#To find std dev\n",
    "torch.std(t)"
   ]
  },
  {
   "cell_type": "code",
   "execution_count": 74,
   "metadata": {},
   "outputs": [
    {
     "data": {
      "text/plain": [
       "tensor(3.4010)"
      ]
     },
     "execution_count": 74,
     "metadata": {},
     "output_type": "execute_result"
    }
   ],
   "source": [
    "#To find norm\n",
    "torch.norm(t)"
   ]
  },
  {
   "cell_type": "code",
   "execution_count": 75,
   "metadata": {},
   "outputs": [
    {
     "data": {
      "text/plain": [
       "tensor([1.4419, 1.9182, 0.6474, 0.3975, 1.6767, 0.3167, 0.2434, 0.3877, 1.4522,\n",
       "        0.0276])"
      ]
     },
     "execution_count": 75,
     "metadata": {},
     "output_type": "execute_result"
    }
   ],
   "source": [
    "#To find absolute values\n",
    "torch.abs(t)"
   ]
  },
  {
   "cell_type": "code",
   "execution_count": 76,
   "metadata": {},
   "outputs": [
    {
     "name": "stdout",
     "output_type": "stream",
     "text": [
      "tensor([-0.9917,  0.9403,  0.6031, -0.3871, -0.9944,  0.3114,  0.2410,  0.3781,\n",
      "         0.9930,  0.0276])\n",
      "tensor([ 0.1285, -0.3405,  0.7977,  0.9220, -0.1057,  0.9503,  0.9705,  0.9258,\n",
      "         0.1183,  0.9996])\n",
      "tensor([-7.7171, -2.7616,  0.7561, -0.4199,  9.4054,  0.3277,  0.2483,  0.4084,\n",
      "         8.3921,  0.0276])\n"
     ]
    }
   ],
   "source": [
    "#Various trigonometric operations\n",
    "print(torch.sin(t))\n",
    "print(torch.cos(t))\n",
    "print(torch.tan(t))"
   ]
  },
  {
   "cell_type": "markdown",
   "metadata": {},
   "source": [
    " "
   ]
  },
  {
   "cell_type": "markdown",
   "metadata": {},
   "source": [
    "##### n-D tensor"
   ]
  },
  {
   "cell_type": "markdown",
   "metadata": {},
   "source": [
    "Let's understand n-D tensors by taking example of a 3-D tensor as it will be easier to visualize. Consider a 3-D tensor with shape (k,l,m), it can be view in the following ways:\n",
    "\n",
    "##### k arrays of shape (l,m)\n",
    "##### l arrays of ahape (k,m)\n",
    "##### m arrays of shape (k,l)\n",
    "\n",
    "Also, we can consider it in reverse also. consider example of 'k arrays of shape (l,m)', each of the k arrays wil have lxm elements. So, it can be viewed as lxm arrays each of dimention k. Pytorch view it in similar way when we apply operation on a tensor in a specific dimension. For example, if we have an array of (3,4,5) shape and we apply max operation in dim=0, pytorch will view it as 4x5=20 arrays each of dimension 3 and apply max operation on these 20 arrays. It will return max value as well as corresponding index for each of the 20 arrays.\n",
    "\n",
    "We can extend it to n-Dimentional tensors. Consider a n-D tensors and we are applying an operation in dim=d, let length of dth axis is k. Let total number of elements in tensor be N. Then, pytorch view it as a (N/k) arrays each of length k. Operation will be applied on each of the (N/k) arrays. Lets look at a few examples of the same.\n"
   ]
  },
  {
   "cell_type": "code",
   "execution_count": 77,
   "metadata": {},
   "outputs": [
    {
     "data": {
      "text/plain": [
       "tensor([[[-0.7178, -1.5976,  0.1168, -0.7798,  0.3808],\n",
       "         [ 1.0398,  0.9831, -0.7171,  0.1001, -0.5136],\n",
       "         [ 1.2248, -0.0188,  1.3127, -0.2996, -1.0734],\n",
       "         [ 0.9118,  0.2335, -1.7371, -0.6636, -0.0652]],\n",
       "\n",
       "        [[ 0.4494,  0.1709,  0.8579, -1.1560,  0.1485],\n",
       "         [ 1.3072, -0.1976, -0.9659,  1.4372, -2.3819],\n",
       "         [ 0.2784, -2.5609,  0.6081, -0.1662, -0.1709],\n",
       "         [-0.8345,  1.1040,  1.8747, -0.0218,  0.9913]],\n",
       "\n",
       "        [[-0.6245,  0.5121, -0.5450, -1.4153,  0.0926],\n",
       "         [ 1.2843, -0.1616, -1.0876,  1.1580, -0.7180],\n",
       "         [ 0.5630,  0.4609,  0.5382,  0.0252,  0.1428],\n",
       "         [-0.5714,  0.7355,  1.4186, -0.5599, -2.4464]]])"
      ]
     },
     "execution_count": 77,
     "metadata": {},
     "output_type": "execute_result"
    }
   ],
   "source": [
    "t = torch.randn(3,4,5)\n",
    "t"
   ]
  },
  {
   "cell_type": "code",
   "execution_count": 78,
   "metadata": {},
   "outputs": [
    {
     "name": "stdout",
     "output_type": "stream",
     "text": [
      "tensor(1.8747)\n",
      "\n",
      " torch.return_types.max(\n",
      "values=tensor([[ 0.4494,  0.5121,  0.8579, -0.7798,  0.3808],\n",
      "        [ 1.3072,  0.9831, -0.7171,  1.4372, -0.5136],\n",
      "        [ 1.2248,  0.4609,  1.3127,  0.0252,  0.1428],\n",
      "        [ 0.9118,  1.1040,  1.8747, -0.0218,  0.9913]]),\n",
      "indices=tensor([[1, 2, 1, 0, 0],\n",
      "        [1, 0, 0, 1, 0],\n",
      "        [0, 2, 0, 2, 2],\n",
      "        [0, 1, 1, 1, 1]]))\n",
      "\n",
      " torch.return_types.max(\n",
      "values=tensor([[1.2248, 0.9831, 1.3127, 0.1001, 0.3808],\n",
      "        [1.3072, 1.1040, 1.8747, 1.4372, 0.9913],\n",
      "        [1.2843, 0.7355, 1.4186, 1.1580, 0.1428]]),\n",
      "indices=tensor([[2, 1, 2, 1, 0],\n",
      "        [1, 3, 3, 1, 3],\n",
      "        [1, 3, 3, 1, 2]]))\n",
      "\n",
      " torch.return_types.max(\n",
      "values=tensor([[0.3808, 1.0398, 1.3127, 0.9118],\n",
      "        [0.8579, 1.4372, 0.6081, 1.8747],\n",
      "        [0.5121, 1.2843, 0.5630, 1.4186]]),\n",
      "indices=tensor([[4, 0, 2, 0],\n",
      "        [2, 3, 2, 2],\n",
      "        [1, 0, 0, 2]]))\n",
      "\n",
      " torch.return_types.min(\n",
      "values=tensor([[-0.7178, -1.5976, -0.5450, -1.4153,  0.0926],\n",
      "        [ 1.0398, -0.1976, -1.0876,  0.1001, -2.3819],\n",
      "        [ 0.2784, -2.5609,  0.5382, -0.2996, -1.0734],\n",
      "        [-0.8345,  0.2335, -1.7371, -0.6636, -2.4464]]),\n",
      "indices=tensor([[0, 0, 2, 2, 2],\n",
      "        [0, 1, 2, 0, 1],\n",
      "        [1, 1, 2, 0, 0],\n",
      "        [1, 0, 0, 0, 2]]))\n",
      "\n",
      " torch.return_types.min(\n",
      "values=tensor([[-0.7178, -1.5976, -1.7371, -0.7798, -1.0734],\n",
      "        [-0.8345, -2.5609, -0.9659, -1.1560, -2.3819],\n",
      "        [-0.6245, -0.1616, -1.0876, -1.4153, -2.4464]]),\n",
      "indices=tensor([[0, 0, 3, 0, 2],\n",
      "        [3, 2, 1, 0, 1],\n",
      "        [0, 1, 1, 0, 3]]))\n",
      "\n",
      " torch.return_types.min(\n",
      "values=tensor([[-1.5976, -0.7171, -1.0734, -1.7371],\n",
      "        [-1.1560, -2.3819, -2.5609, -0.8345],\n",
      "        [-1.4153, -1.0876,  0.0252, -2.4464]]),\n",
      "indices=tensor([[1, 2, 4, 2],\n",
      "        [3, 4, 1, 0],\n",
      "        [3, 2, 3, 4]]))\n"
     ]
    }
   ],
   "source": [
    "# Max & Min\n",
    "print(torch.max(t))\n",
    "\n",
    "print('\\n',torch.max(t,dim=0))\n",
    "print('\\n',torch.max(t,dim=1))\n",
    "print('\\n',torch.max(t,dim=2))\n",
    "\n",
    "\n",
    "print('\\n',torch.min(t,dim=0))\n",
    "print('\\n',torch.min(t,dim=1))\n",
    "print('\\n',torch.min(t,dim=2))\n",
    "\n"
   ]
  },
  {
   "cell_type": "code",
   "execution_count": 79,
   "metadata": {},
   "outputs": [
    {
     "name": "stdout",
     "output_type": "stream",
     "text": [
      "tensor([[2, 1, 2, 1, 0],\n",
      "        [1, 3, 3, 1, 3],\n",
      "        [1, 3, 3, 1, 2]])\n",
      "\n",
      " tensor([[2, 1, 2, 1, 0],\n",
      "        [1, 3, 3, 1, 3],\n",
      "        [1, 3, 3, 1, 2]])\n"
     ]
    }
   ],
   "source": [
    "# In case we want indices only, we can use argmax, argmin\n",
    "print(torch.argmax(t,dim=1))\n",
    "print('\\n',torch.argmax(t,dim=1))"
   ]
  },
  {
   "cell_type": "code",
   "execution_count": 80,
   "metadata": {},
   "outputs": [
    {
     "name": "stdout",
     "output_type": "stream",
     "text": [
      "tensor(-0.0385)\n",
      "\n",
      " tensor([[-0.2977, -0.3049,  0.1432, -1.1170,  0.2073],\n",
      "        [ 1.2104,  0.2080, -0.9236,  0.8984, -1.2045],\n",
      "        [ 0.6887, -0.7063,  0.8197, -0.1469, -0.3672],\n",
      "        [-0.1647,  0.6910,  0.5188, -0.4151, -0.5068]])\n"
     ]
    }
   ],
   "source": [
    "#Mean\n",
    "print(torch.mean(t))\n",
    "print('\\n',torch.mean(t,dim=0))"
   ]
  },
  {
   "cell_type": "code",
   "execution_count": 81,
   "metadata": {},
   "outputs": [
    {
     "name": "stdout",
     "output_type": "stream",
     "text": [
      "tensor(1.0026)\n",
      "\n",
      " tensor([[0.6486, 1.1325, 0.7018, 0.3195, 0.1528],\n",
      "        [0.1483, 0.6715, 0.1889, 0.7053, 1.0247],\n",
      "        [0.4856, 1.6239, 0.4284, 0.1633, 0.6314],\n",
      "        [0.9415, 0.4369, 1.9669, 0.3445, 1.7609]])\n"
     ]
    }
   ],
   "source": [
    "#std dev\n",
    "print(torch.std(t))\n",
    "print('\\n',torch.std(t, dim=0))"
   ]
  },
  {
   "cell_type": "code",
   "execution_count": 82,
   "metadata": {},
   "outputs": [
    {
     "name": "stdout",
     "output_type": "stream",
     "text": [
      "tensor(7.7070)\n",
      "\n",
      " tensor([[1.0523, 1.6864, 1.0230, 1.9868, 0.4191],\n",
      "        [2.1070, 1.0157, 1.6218, 1.8483, 2.5402],\n",
      "        [1.3765, 2.6021, 1.5436, 0.3435, 1.0963],\n",
      "        [1.3617, 1.3469, 2.9231, 0.8685, 2.6404]])\n"
     ]
    }
   ],
   "source": [
    "#Norm\n",
    "print(torch.norm(t))\n",
    "print('\\n',torch.norm(t,dim=0))"
   ]
  },
  {
   "cell_type": "code",
   "execution_count": 83,
   "metadata": {},
   "outputs": [
    {
     "name": "stdout",
     "output_type": "stream",
     "text": [
      "tensor([[[0.7178, 1.5976, 0.1168, 0.7798, 0.3808],\n",
      "         [1.0398, 0.9831, 0.7171, 0.1001, 0.5136],\n",
      "         [1.2248, 0.0188, 1.3127, 0.2996, 1.0734],\n",
      "         [0.9118, 0.2335, 1.7371, 0.6636, 0.0652]],\n",
      "\n",
      "        [[0.4494, 0.1709, 0.8579, 1.1560, 0.1485],\n",
      "         [1.3072, 0.1976, 0.9659, 1.4372, 2.3819],\n",
      "         [0.2784, 2.5609, 0.6081, 0.1662, 0.1709],\n",
      "         [0.8345, 1.1040, 1.8747, 0.0218, 0.9913]],\n",
      "\n",
      "        [[0.6245, 0.5121, 0.5450, 1.4153, 0.0926],\n",
      "         [1.2843, 0.1616, 1.0876, 1.1580, 0.7180],\n",
      "         [0.5630, 0.4609, 0.5382, 0.0252, 0.1428],\n",
      "         [0.5714, 0.7355, 1.4186, 0.5599, 2.4464]]])\n"
     ]
    }
   ],
   "source": [
    "#Absolute Values\n",
    "print(torch.abs(t))"
   ]
  },
  {
   "cell_type": "code",
   "execution_count": 84,
   "metadata": {},
   "outputs": [
    {
     "name": "stdout",
     "output_type": "stream",
     "text": [
      "tensor([[[-0.6577, -0.9996,  0.1165, -0.7032,  0.3716],\n",
      "         [ 0.8623,  0.8322, -0.6572,  0.0999, -0.4914],\n",
      "         [ 0.9407, -0.0188,  0.9669, -0.2951, -0.8788],\n",
      "         [ 0.7906,  0.2314, -0.9862, -0.6160, -0.0652]],\n",
      "\n",
      "        [[ 0.4344,  0.1701,  0.7564, -0.9152,  0.1480],\n",
      "         [ 0.9655, -0.1963, -0.8226,  0.9911, -0.6887],\n",
      "         [ 0.2748, -0.5486,  0.5713, -0.1655, -0.1701],\n",
      "         [-0.7410,  0.8930,  0.9542, -0.0218,  0.8367]],\n",
      "\n",
      "        [[-0.5847,  0.4900, -0.5184, -0.9879,  0.0925],\n",
      "         [ 0.9592, -0.1609, -0.8855,  0.9160, -0.6579],\n",
      "         [ 0.5337,  0.4447,  0.5126,  0.0252,  0.1423],\n",
      "         [-0.5408,  0.6710,  0.9884, -0.5311, -0.6405]]])\n",
      "tensor([[[ 0.7532, -0.0268,  0.9932,  0.7110,  0.9284],\n",
      "         [ 0.5064,  0.5544,  0.7537,  0.9950,  0.8710],\n",
      "         [ 0.3391,  0.9998,  0.2552,  0.9555,  0.4771],\n",
      "         [ 0.6123,  0.9729, -0.1655,  0.7878,  0.9979]],\n",
      "\n",
      "        [[ 0.9007,  0.9854,  0.6541,  0.4030,  0.9890],\n",
      "         [ 0.2605,  0.9805,  0.5687,  0.1332, -0.7250],\n",
      "         [ 0.9615, -0.8361,  0.8207,  0.9862,  0.9854],\n",
      "         [ 0.6715,  0.4500, -0.2993,  0.9998,  0.5476]],\n",
      "\n",
      "        [[ 0.8112,  0.8717,  0.8551,  0.1548,  0.9957],\n",
      "         [ 0.2826,  0.9870,  0.4646,  0.4012,  0.7531],\n",
      "         [ 0.8456,  0.8957,  0.8587,  0.9997,  0.9898],\n",
      "         [ 0.8412,  0.7415,  0.1516,  0.8473, -0.7679]]])\n",
      "tensor([[[-8.7322e-01,  3.7256e+01,  1.1730e-01, -9.8893e-01,  4.0029e-01],\n",
      "         [ 1.7027e+00,  1.5010e+00, -8.7196e-01,  1.0040e-01, -5.6415e-01],\n",
      "         [ 2.7740e+00, -1.8841e-02,  3.7884e+00, -3.0887e-01, -1.8420e+00],\n",
      "         [ 1.2912e+00,  2.3784e-01,  5.9590e+00, -7.8192e-01, -6.5291e-02]],\n",
      "\n",
      "        [[ 4.8227e-01,  1.7259e-01,  1.1565e+00, -2.2707e+00,  1.4963e-01],\n",
      "         [ 3.7056e+00, -2.0025e-01, -1.4465e+00,  7.4385e+00,  9.4990e-01],\n",
      "         [ 2.8584e-01,  6.5619e-01,  6.9608e-01, -1.6780e-01, -1.7259e-01],\n",
      "         [-1.1034e+00,  1.9843e+00, -3.1881e+00, -2.1779e-02,  1.5281e+00]],\n",
      "\n",
      "        [[-7.2080e-01,  5.6211e-01, -6.0624e-01, -6.3800e+00,  9.2900e-02],\n",
      "         [ 3.3946e+00, -1.6297e-01, -1.9060e+00,  2.2833e+00, -8.7358e-01],\n",
      "         [ 6.3116e-01,  4.9653e-01,  5.9694e-01,  2.5218e-02,  1.4374e-01],\n",
      "         [-6.4289e-01,  9.0486e-01,  6.5190e+00, -6.2674e-01,  8.3411e-01]]])\n"
     ]
    }
   ],
   "source": [
    "#Various trigonometric operations\n",
    "print(torch.sin(t))\n",
    "print(torch.cos(t))\n",
    "print(torch.tan(t))"
   ]
  },
  {
   "cell_type": "markdown",
   "metadata": {},
   "source": [
    " "
   ]
  },
  {
   "cell_type": "code",
   "execution_count": null,
   "metadata": {},
   "outputs": [],
   "source": []
  },
  {
   "cell_type": "code",
   "execution_count": null,
   "metadata": {},
   "outputs": [],
   "source": []
  },
  {
   "cell_type": "code",
   "execution_count": null,
   "metadata": {},
   "outputs": [],
   "source": []
  },
  {
   "cell_type": "code",
   "execution_count": null,
   "metadata": {},
   "outputs": [],
   "source": []
  }
 ],
 "metadata": {
  "kernelspec": {
   "display_name": "Python 3",
   "language": "python",
   "name": "python3"
  },
  "language_info": {
   "codemirror_mode": {
    "name": "ipython",
    "version": 3
   },
   "file_extension": ".py",
   "mimetype": "text/x-python",
   "name": "python",
   "nbconvert_exporter": "python",
   "pygments_lexer": "ipython3",
   "version": "3.6.7"
  }
 },
 "nbformat": 4,
 "nbformat_minor": 4
}
