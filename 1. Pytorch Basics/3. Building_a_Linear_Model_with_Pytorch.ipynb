{
 "cells": [
  {
   "cell_type": "markdown",
   "metadata": {},
   "source": [
    "# Building a Linear Model with Pytorch\n",
    "\n",
    "### --- SGD Regressor from scratch\n",
    "### --- Pytorch Autograd\n",
    "### --- SGD Regressor with Pytorch Autograd\n",
    "### --- Pytorch Optim\n",
    "### --- SGD using Pytorch Autograd and Optim"
   ]
  },
  {
   "cell_type": "markdown",
   "metadata": {},
   "source": [
    " "
   ]
  },
  {
   "cell_type": "code",
   "execution_count": 1,
   "metadata": {},
   "outputs": [],
   "source": [
    "import numpy as np\n",
    "import pandas as pd\n",
    "import torch\n",
    "import torch.nn as nn\n",
    "import torch.optim as optim\n",
    "import matplotlib.pyplot as plt"
   ]
  },
  {
   "cell_type": "code",
   "execution_count": 2,
   "metadata": {},
   "outputs": [],
   "source": [
    "#Let's generate some data first\n",
    "X = torch.randn(100)"
   ]
  },
  {
   "cell_type": "code",
   "execution_count": 3,
   "metadata": {},
   "outputs": [],
   "source": [
    "#define oyr model with some additional noise\n",
    "Y = 4*X + 6 + torch.randn(100)"
   ]
  },
  {
   "cell_type": "code",
   "execution_count": 4,
   "metadata": {},
   "outputs": [
    {
     "data": {
      "image/png": "[encoded data removed]",
      "text/plain": [
       "<Figure size 432x288 with 1 Axes>"
      ]
     },
     "metadata": {
      "needs_background": "light"
     },
     "output_type": "display_data"
    }
   ],
   "source": [
    "plt.scatter(X,Y)\n",
    "plt.xlabel('X')\n",
    "plt.ylabel('Y')\n",
    "plt.show()"
   ]
  },
  {
   "cell_type": "markdown",
   "metadata": {},
   "source": [
    " "
   ]
  },
  {
   "cell_type": "markdown",
   "metadata": {},
   "source": [
    "### SGD Regressor from scratch"
   ]
  },
  {
   "cell_type": "code",
   "execution_count": 5,
   "metadata": {},
   "outputs": [],
   "source": [
    "#model output\n",
    "def Model(w, b, x):\n",
    "    return w*x + b"
   ]
  },
  {
   "cell_type": "code",
   "execution_count": 6,
   "metadata": {},
   "outputs": [],
   "source": [
    "#define loss function\n",
    "def loss_fun(y_pred, y):\n",
    "    return torch.mean((y_pred - y)**2)"
   ]
  },
  {
   "cell_type": "code",
   "execution_count": 7,
   "metadata": {},
   "outputs": [],
   "source": [
    "#define training function\n",
    "def train(w,b,X,Y):\n",
    "    lr = 0.01\n",
    "    loss_diff = 1\n",
    "    loss_old = loss_fun(w*X+b, Y)\n",
    "    loss_new = 0\n",
    "    epoch = 0\n",
    "    #loop untill convergence or max iterations\n",
    "    while(abs(loss_diff)>0.00001 and epoch<1001):\n",
    "        #calculate gradients\n",
    "        g_w = torch.mean(2*(Model(w,b,X) - Y)*X)\n",
    "        g_b = torch.mean(2*(Model(w,b,X) - Y))\n",
    "        \n",
    "        #optimize weights\n",
    "        w = w - lr*g_w\n",
    "        b = b - lr*g_b\n",
    "        \n",
    "        #calculate loss\n",
    "        loss_new = loss_fun(Model(w,b,X),Y)\n",
    "        if(epoch%10==0):\n",
    "            print('epoch : ',epoch,' loss : ', loss_new.item())\n",
    "        loss_diff = loss_new - loss_old\n",
    "        \n",
    "        loss_old = loss_new\n",
    "        epoch = epoch+1\n",
    "        \n",
    "    return w, b"
   ]
  },
  {
   "cell_type": "code",
   "execution_count": 8,
   "metadata": {},
   "outputs": [
    {
     "name": "stdout",
     "output_type": "stream",
     "text": [
      "epoch :  0  loss :  64.54771423339844\n",
      "epoch :  10  loss :  43.65538787841797\n",
      "epoch :  20  loss :  29.640356063842773\n",
      "epoch :  30  loss :  20.23105812072754\n",
      "epoch :  40  loss :  13.908276557922363\n",
      "epoch :  50  loss :  9.65542221069336\n",
      "epoch :  60  loss :  6.791825771331787\n",
      "epoch :  70  loss :  4.86145544052124\n",
      "epoch :  80  loss :  3.5585696697235107\n",
      "epoch :  90  loss :  2.678025484085083\n",
      "epoch :  100  loss :  2.082059144973755\n",
      "epoch :  110  loss :  1.6780788898468018\n",
      "epoch :  120  loss :  1.4037833213806152\n",
      "epoch :  130  loss :  1.2172167301177979\n",
      "epoch :  140  loss :  1.0900814533233643\n",
      "epoch :  150  loss :  1.003273844718933\n",
      "epoch :  160  loss :  0.9438788294792175\n",
      "epoch :  170  loss :  0.9031506776809692\n",
      "epoch :  180  loss :  0.8751587867736816\n",
      "epoch :  190  loss :  0.855874240398407\n",
      "epoch :  200  loss :  0.842556357383728\n",
      "epoch :  210  loss :  0.8333348035812378\n",
      "epoch :  220  loss :  0.826933741569519\n",
      "epoch :  230  loss :  0.8224784135818481\n",
      "epoch :  240  loss :  0.819368839263916\n",
      "epoch :  250  loss :  0.817192554473877\n",
      "epoch :  260  loss :  0.815665602684021\n",
      "epoch :  270  loss :  0.8145912289619446\n",
      "epoch :  280  loss :  0.8138330578804016\n",
      "epoch :  290  loss :  0.8132966756820679\n",
      "epoch :  300  loss :  0.81291663646698\n",
      "epoch :  310  loss :  0.8126460909843445\n",
      "epoch :  320  loss :  0.8124531507492065\n",
      "epoch :  330  loss :  0.8123151659965515\n"
     ]
    }
   ],
   "source": [
    "# Define weight parameters\n",
    "w = torch.randn(1)\n",
    "b = torch.randn(1)\n",
    "\n",
    "#Split data into test and train\n",
    "X_train, X_test, Y_train, Y_test = X[0:80], X[80:100], Y[0:80], Y[80:100]\n",
    "\n",
    "#Train on training data\n",
    "w, b = train(w, b, X_train, Y_train)"
   ]
  },
  {
   "cell_type": "code",
   "execution_count": 9,
   "metadata": {},
   "outputs": [
    {
     "name": "stdout",
     "output_type": "stream",
     "text": [
      "tensor([4.0967]) tensor([5.8513])\n"
     ]
    }
   ],
   "source": [
    "print(w, b)"
   ]
  },
  {
   "cell_type": "code",
   "execution_count": 10,
   "metadata": {},
   "outputs": [
    {
     "data": {
      "text/plain": [
       "tensor(0.5297)"
      ]
     },
     "execution_count": 10,
     "metadata": {},
     "output_type": "execute_result"
    }
   ],
   "source": [
    "#Test on test data\n",
    "y_pred = Model(w, b, X_test)\n",
    "loss_fun(y_pred,Y_test)"
   ]
  },
  {
   "cell_type": "code",
   "execution_count": 11,
   "metadata": {},
   "outputs": [
    {
     "data": {
      "image/png": "[encoded data removed]",
      "text/plain": [
       "<Figure size 600x400 with 1 Axes>"
      ]
     },
     "metadata": {
      "needs_background": "light"
     },
     "output_type": "display_data"
    }
   ],
   "source": [
    "plt.figure(dpi=100)\n",
    "plt.scatter(X,Y)\n",
    "plt.plot(X,w*X+b, 'r')\n",
    "plt.xlabel('X')\n",
    "plt.ylabel('Y')\n",
    "plt.show()"
   ]
  },
  {
   "cell_type": "markdown",
   "metadata": {},
   "source": [
    " "
   ]
  },
  {
   "cell_type": "markdown",
   "metadata": {},
   "source": [
    "### Pytorch Autograd\n",
    "\n",
    "Pytorch offers a very convenient way to compute gradient of any function with respect to all it's components. We just need to set requires_grad to True while creating initial tensors. after that, if we want to calculate gradient of any saclar with respect to all variables it depends, we jut need to calculate backward() on that variable."
   ]
  },
  {
   "cell_type": "code",
   "execution_count": 12,
   "metadata": {},
   "outputs": [
    {
     "name": "stdout",
     "output_type": "stream",
     "text": [
      "dl/dt1 tensor([-74.3108])\n",
      "dl/dt1 tensor([-18.5777])\n"
     ]
    }
   ],
   "source": [
    "#Create tensors and perform operations\n",
    "t1 = torch.randn(1, requires_grad=True)\n",
    "t2 = torch.randn(1, requires_grad=True)\n",
    "\n",
    "y1 = 4*t1 + t2\n",
    "y2 = 10\n",
    "\n",
    "l = (y1 - y2)**2\n",
    "\n",
    "#call backward on l\n",
    "l.backward()\n",
    "\n",
    "print('dl/dt1', t1.grad)\n",
    "print('dl/dt1', t2.grad)"
   ]
  },
  {
   "cell_type": "markdown",
   "metadata": {},
   "source": [
    "When we are computing gradients, we need to cache input values, and intermediate features as they maybe required to compute the gradient later.\n",
    "\n",
    "The gradient of  b=w1∗a\n",
    "w.r.t it's inputs w1 and a is a and w1\n",
    "\n",
    "respectively. We need to store these values for gradient computation during the backward pass. This affects the memory footprint of the network.\n",
    "\n",
    "While, we are performing inference, we don't compute gradients, and thus, don't need to store these values. Infact, no graph needs to be create during inference as it will lead to useless consumption of memory.\n",
    "\n",
    "PyTorch offers a context manager, called torch.no_grad for this purpose. \n",
    "\n",
    "Let us now build regression model again by using autograd instead of manually calculating gradients"
   ]
  },
  {
   "cell_type": "code",
   "execution_count": 13,
   "metadata": {},
   "outputs": [],
   "source": [
    "#model output\n",
    "def Model(w, b, x):\n",
    "    return w*x + b"
   ]
  },
  {
   "cell_type": "code",
   "execution_count": 14,
   "metadata": {},
   "outputs": [],
   "source": [
    "#define loss function by using MSELoss function in torch.nn\n",
    "loss_fun = nn.MSELoss()"
   ]
  },
  {
   "cell_type": "code",
   "execution_count": 15,
   "metadata": {},
   "outputs": [],
   "source": [
    "#define training function\n",
    "def train(w,b,X,Y):\n",
    "    lr = 0.01\n",
    "    loss_diff = 1\n",
    "    loss = loss_fun(w*X+b, Y)\n",
    "    loss_new = 0\n",
    "    loss_old = loss\n",
    "    epoch = 0\n",
    "    #loop untill convergence or max iterations\n",
    "    while(abs(loss_diff)>0.00001 and epoch<1001):\n",
    "        \n",
    "        if w.grad is not None:\n",
    "            w.grad.zero_()\n",
    "        \n",
    "        if b.grad is not None:\n",
    "            b.grad.zero_()\n",
    "            \n",
    "        #calculate gradients\n",
    "        loss = loss_fun(w*X+b, Y)\n",
    "        loss.backward()\n",
    "        \n",
    "        #optimize weights\n",
    "        with torch.no_grad():\n",
    "            w -= lr*w.grad\n",
    "            b -= lr*b.grad\n",
    "            \n",
    "        #calculate loss\n",
    "        loss_new = loss_fun(Model(w,b,X),Y)\n",
    "        if(epoch%10==0):\n",
    "            print('epoch : ',epoch,' loss : ', loss_new.item())\n",
    "        loss_diff = loss_new - loss_old\n",
    "        \n",
    "        loss_old = loss_new\n",
    "        epoch = epoch+1\n",
    "        \n",
    "    return w, b"
   ]
  },
  {
   "cell_type": "code",
   "execution_count": 16,
   "metadata": {},
   "outputs": [
    {
     "name": "stdout",
     "output_type": "stream",
     "text": [
      "epoch :  0  loss :  54.695709228515625\n",
      "epoch :  10  loss :  37.02635192871094\n",
      "epoch :  20  loss :  25.175073623657227\n",
      "epoch :  30  loss :  17.21973991394043\n",
      "epoch :  40  loss :  11.87490463256836\n",
      "epoch :  50  loss :  8.280515670776367\n",
      "epoch :  60  loss :  5.860785484313965\n",
      "epoch :  70  loss :  4.229992866516113\n",
      "epoch :  80  loss :  3.129568099975586\n",
      "epoch :  90  loss :  2.386045455932617\n",
      "epoch :  100  loss :  1.8829576969146729\n",
      "epoch :  110  loss :  1.5420383214950562\n",
      "epoch :  120  loss :  1.310633897781372\n",
      "epoch :  130  loss :  1.1532927751541138\n",
      "epoch :  140  loss :  1.0461113452911377\n",
      "epoch :  150  loss :  0.9729569554328918\n",
      "epoch :  160  loss :  0.9229226112365723\n",
      "epoch :  170  loss :  0.8886280059814453\n",
      "epoch :  180  loss :  0.8650684356689453\n",
      "epoch :  190  loss :  0.8488450050354004\n",
      "epoch :  200  loss :  0.8376458287239075\n",
      "epoch :  210  loss :  0.8298953771591187\n",
      "epoch :  220  loss :  0.8245177268981934\n",
      "epoch :  230  loss :  0.820776641368866\n",
      "epoch :  240  loss :  0.8181670308113098\n",
      "epoch :  250  loss :  0.816341757774353\n",
      "epoch :  260  loss :  0.8150616884231567\n",
      "epoch :  270  loss :  0.8141613006591797\n",
      "epoch :  280  loss :  0.8135263323783875\n",
      "epoch :  290  loss :  0.8130775690078735\n",
      "epoch :  300  loss :  0.8127593994140625\n",
      "epoch :  310  loss :  0.8125330805778503\n",
      "epoch :  320  loss :  0.8123719096183777\n",
      "epoch :  330  loss :  0.8122566938400269\n"
     ]
    }
   ],
   "source": [
    "# Define weight parameters\n",
    "w = torch.randn(1, requires_grad=True)\n",
    "b = torch.randn(1, requires_grad=True)\n",
    "\n",
    "#Split data into test and train\n",
    "X_train, X_test, Y_train, Y_test = X[0:80], X[80:100], Y[0:80], Y[80:100]\n",
    "\n",
    "#Train on training data\n",
    "w, b = train(w, b, X_train, Y_train)"
   ]
  },
  {
   "cell_type": "code",
   "execution_count": 17,
   "metadata": {},
   "outputs": [
    {
     "name": "stdout",
     "output_type": "stream",
     "text": [
      "4.0966796875 5.851017475128174\n"
     ]
    }
   ],
   "source": [
    "print(w.item(), b.item())"
   ]
  },
  {
   "cell_type": "code",
   "execution_count": 18,
   "metadata": {},
   "outputs": [
    {
     "data": {
      "image/png": "[encoded data removed]",
      "text/plain": [
       "<Figure size 600x400 with 1 Axes>"
      ]
     },
     "metadata": {
      "needs_background": "light"
     },
     "output_type": "display_data"
    }
   ],
   "source": [
    "plt.figure(dpi=100)\n",
    "plt.scatter(X,Y)\n",
    "plt.plot(X,(w*X+b).detach(), 'r')\n",
    "plt.xlabel('X')\n",
    "plt.ylabel('Y')\n",
    "plt.show()"
   ]
  },
  {
   "cell_type": "markdown",
   "metadata": {},
   "source": [
    " "
   ]
  },
  {
   "cell_type": "markdown",
   "metadata": {},
   "source": [
    "###  Pytorch Optim\n",
    "\n",
    "Pytorch offers a wide range of optimizers in it's torch.optim library. We just need to perform step function on optimizer and it automatically updates values of parameters. Hare is the list of optimizers in pytorch."
   ]
  },
  {
   "cell_type": "code",
   "execution_count": 19,
   "metadata": {},
   "outputs": [
    {
     "data": {
      "text/plain": [
       "['ASGD',\n",
       " 'Adadelta',\n",
       " 'Adagrad',\n",
       " 'Adam',\n",
       " 'AdamW',\n",
       " 'Adamax',\n",
       " 'LBFGS',\n",
       " 'Optimizer',\n",
       " 'RMSprop',\n",
       " 'Rprop',\n",
       " 'SGD',\n",
       " 'SparseAdam',\n",
       " '__builtins__',\n",
       " '__cached__',\n",
       " '__doc__',\n",
       " '__file__',\n",
       " '__loader__',\n",
       " '__name__',\n",
       " '__package__',\n",
       " '__path__',\n",
       " '__spec__',\n",
       " 'lr_scheduler']"
      ]
     },
     "execution_count": 19,
     "metadata": {},
     "output_type": "execute_result"
    }
   ],
   "source": [
    "dir(optim)"
   ]
  },
  {
   "cell_type": "markdown",
   "metadata": {},
   "source": [
    " "
   ]
  },
  {
   "cell_type": "markdown",
   "metadata": {},
   "source": [
    "### SGD using Pytorch Autograd and Optim\n",
    "\n",
    "Let's now look perform the same task using optim"
   ]
  },
  {
   "cell_type": "code",
   "execution_count": 20,
   "metadata": {},
   "outputs": [],
   "source": [
    "#model output\n",
    "def Model(w, b, x):\n",
    "    return w*x + b"
   ]
  },
  {
   "cell_type": "code",
   "execution_count": 21,
   "metadata": {},
   "outputs": [],
   "source": [
    "#define loss function by using MSELoss function in torch.nn\n",
    "loss_fun = nn.MSELoss()"
   ]
  },
  {
   "cell_type": "code",
   "execution_count": 26,
   "metadata": {},
   "outputs": [],
   "source": [
    "#define training function\n",
    "def train(w,b,X,Y):\n",
    "    loss_diff = 1\n",
    "    loss = loss_fun(w*X+b, Y)\n",
    "    loss_new = 0\n",
    "    loss_old = loss\n",
    "    \n",
    "    #define optimizer\n",
    "    optimizer = optim.SGD([w, b], lr = 0.01)\n",
    "    \n",
    "    epoch = 0\n",
    "    #loop untill convergence or max iterations\n",
    "    while(abs(loss_diff)>0.00001 and epoch<1001):\n",
    "            \n",
    "        #calculate gradients\n",
    "        loss = loss_fun(w*X+b, Y)\n",
    "        optimizer.zero_grad()\n",
    "        loss.backward()\n",
    "        \n",
    "        \n",
    "        #optimize weights\n",
    "        optimizer.step()\n",
    "            \n",
    "        #calculate loss\n",
    "        loss_new = loss_fun(Model(w,b,X),Y)\n",
    "        if(epoch%10==0):\n",
    "            print('epoch : ',epoch,' loss : ', loss_new.item())\n",
    "        loss_diff = loss_new - loss_old\n",
    "        \n",
    "        loss_old = loss_new\n",
    "        epoch = epoch+1\n",
    "        \n",
    "    return w, b"
   ]
  },
  {
   "cell_type": "code",
   "execution_count": 27,
   "metadata": {},
   "outputs": [
    {
     "name": "stdout",
     "output_type": "stream",
     "text": [
      "epoch :  0  loss :  32.13935089111328\n",
      "epoch :  10  loss :  22.134859085083008\n",
      "epoch :  20  loss :  15.353073120117188\n",
      "epoch :  30  loss :  10.74827766418457\n",
      "epoch :  40  loss :  7.616140842437744\n",
      "epoch :  50  loss :  5.481707572937012\n",
      "epoch :  60  loss :  4.024286270141602\n",
      "epoch :  70  loss :  3.0270636081695557\n",
      "epoch :  80  loss :  2.3432297706604004\n",
      "epoch :  90  loss :  1.873225212097168\n",
      "epoch :  100  loss :  1.5494163036346436\n",
      "epoch :  110  loss :  1.3257777690887451\n",
      "epoch :  120  loss :  1.1709281206130981\n",
      "epoch :  130  loss :  1.0634305477142334\n",
      "epoch :  140  loss :  0.9886058568954468\n",
      "epoch :  150  loss :  0.9363828897476196\n",
      "epoch :  160  loss :  0.8998357653617859\n",
      "epoch :  170  loss :  0.8741884231567383\n",
      "epoch :  180  loss :  0.8561414480209351\n",
      "epoch :  190  loss :  0.8434081077575684\n",
      "epoch :  200  loss :  0.8343998789787292\n",
      "epoch :  210  loss :  0.8280102610588074\n",
      "epoch :  220  loss :  0.8234663009643555\n",
      "epoch :  230  loss :  0.820226788520813\n",
      "epoch :  240  loss :  0.8179119229316711\n",
      "epoch :  250  loss :  0.8162539601325989\n",
      "epoch :  260  loss :  0.8150633573532104\n",
      "epoch :  270  loss :  0.8142070770263672\n",
      "epoch :  280  loss :  0.8135899305343628\n",
      "epoch :  290  loss :  0.8131440877914429\n",
      "epoch :  300  loss :  0.8128215670585632\n",
      "epoch :  310  loss :  0.8125876188278198\n",
      "epoch :  320  loss :  0.8124181032180786\n",
      "epoch :  330  loss :  0.8122947812080383\n"
     ]
    }
   ],
   "source": [
    "# Define weight parameters\n",
    "w = torch.randn(1, requires_grad=True)\n",
    "b = torch.randn(1, requires_grad=True)\n",
    "\n",
    "#Split data into test and train\n",
    "X_train, X_test, Y_train, Y_test = X[0:80], X[80:100], Y[0:80], Y[80:100]\n",
    "\n",
    "#Train on training data\n",
    "w, b = train(w, b, X_train, Y_train)"
   ]
  },
  {
   "cell_type": "code",
   "execution_count": 28,
   "metadata": {},
   "outputs": [
    {
     "name": "stdout",
     "output_type": "stream",
     "text": [
      "4.095165729522705 5.853992462158203\n"
     ]
    }
   ],
   "source": [
    "print(w.item(), b.item())"
   ]
  },
  {
   "cell_type": "code",
   "execution_count": 29,
   "metadata": {},
   "outputs": [
    {
     "data": {
      "image/png": "[encoded data removed]",
      "text/plain": [
       "<Figure size 600x400 with 1 Axes>"
      ]
     },
     "metadata": {
      "needs_background": "light"
     },
     "output_type": "display_data"
    }
   ],
   "source": [
    "plt.figure(dpi=100)\n",
    "plt.scatter(X,Y)\n",
    "plt.plot(X,(w*X+b).detach(), 'r')\n",
    "plt.xlabel('X')\n",
    "plt.ylabel('Y')\n",
    "plt.show()"
   ]
  },
  {
   "cell_type": "code",
   "execution_count": null,
   "metadata": {},
   "outputs": [],
   "source": []
  }
 ],
 "metadata": {
  "kernelspec": {
   "display_name": "Python 3",
   "language": "python",
   "name": "python3"
  },
  "language_info": {
   "codemirror_mode": {
    "name": "ipython",
    "version": 3
   },
   "file_extension": ".py",
   "mimetype": "text/x-python",
   "name": "python",
   "nbconvert_exporter": "python",
   "pygments_lexer": "ipython3",
   "version": "3.6.7"
  }
 },
 "nbformat": 4,
 "nbformat_minor": 4
}
